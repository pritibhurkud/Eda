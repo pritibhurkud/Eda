{
  "nbformat": 4,
  "nbformat_minor": 0,
  "metadata": {
    "colab": {
      "provenance": []
    },
    "kernelspec": {
      "name": "python3",
      "display_name": "Python 3"
    },
    "language_info": {
      "name": "python"
    }
  },
  "cells": [
    {
      "cell_type": "markdown",
      "source": [
        "DESCRIPTION:The Dataset we have data related to year wise sales along with product category and sub category and also state wise data and city wise data ."
      ],
      "metadata": {
        "id": "V_ORw5Kp712Z"
      }
    },
    {
      "cell_type": "markdown",
      "source": [
        "OBJECTIVE: The company's profits are growing year by year, and the company wants to determine which factors or products are contributing to this growth. Additionally, they are keen on maintaining these profits."
      ],
      "metadata": {
        "id": "zSkx1BZS9TvQ"
      }
    },
    {
      "cell_type": "code",
      "execution_count": null,
      "metadata": {
        "id": "8aaVCb_KAMsZ"
      },
      "outputs": [],
      "source": [
        "import pandas as pd\n",
        "import numpy as np\n",
        "import matplotlib.pyplot as plt\n",
        "import seaborn as sns\n",
        "import warnings\n"
      ]
    },
    {
      "cell_type": "code",
      "source": [
        "df = pd.read_csv('/content/train.csv')\n",
        "df"
      ],
      "metadata": {
        "id": "EfsebssTV1de"
      },
      "execution_count": null,
      "outputs": []
    },
    {
      "cell_type": "code",
      "source": [
        "df.shape"
      ],
      "metadata": {
        "id": "5evJze0VBHay"
      },
      "execution_count": null,
      "outputs": []
    },
    {
      "cell_type": "code",
      "source": [
        "df.describe()"
      ],
      "metadata": {
        "id": "d5txKtaqBO7u"
      },
      "execution_count": null,
      "outputs": []
    },
    {
      "cell_type": "code",
      "source": [
        "df.info()"
      ],
      "metadata": {
        "id": "AwoPCQrwBSoT"
      },
      "execution_count": null,
      "outputs": []
    },
    {
      "cell_type": "code",
      "source": [
        "df.isnull().sum()"
      ],
      "metadata": {
        "id": "VaH74WCzBWyv"
      },
      "execution_count": null,
      "outputs": []
    },
    {
      "cell_type": "code",
      "source": [
        "df['Postal Code'].fillna(0, inplace=True)"
      ],
      "metadata": {
        "id": "y9dwknKkBczN"
      },
      "execution_count": null,
      "outputs": []
    },
    {
      "cell_type": "code",
      "source": [
        "df.isnull().sum()"
      ],
      "metadata": {
        "id": "FqoQVgmsBqss"
      },
      "execution_count": null,
      "outputs": []
    },
    {
      "cell_type": "code",
      "source": [
        "df['Ship Date'] = pd.to_datetime(df['Ship Date'])\n"
      ],
      "metadata": {
        "id": "8in8ScvYEMcV"
      },
      "execution_count": null,
      "outputs": []
    },
    {
      "cell_type": "code",
      "source": [
        "df['Year'] = df['Ship Date'].dt.year\n",
        "df.head()\n"
      ],
      "metadata": {
        "id": "u1ZSJDEOEI7R"
      },
      "execution_count": null,
      "outputs": []
    },
    {
      "cell_type": "code",
      "source": [
        "df.Year.unique()"
      ],
      "metadata": {
        "id": "K1TQ_EgKEk0t"
      },
      "execution_count": null,
      "outputs": []
    },
    {
      "cell_type": "code",
      "source": [
        "a=df[df['Year']!=2019]"
      ],
      "metadata": {
        "id": "9pPcpSSEFLCX"
      },
      "execution_count": null,
      "outputs": []
    },
    {
      "cell_type": "code",
      "source": [
        "grp_data=a.groupby('Year')['Sales'].sum()\n",
        "year=grp_data.index\n",
        "sales=grp_data.values\n",
        "plt.figure(figsize=(7,4))\n",
        "plt.plot(year,sales,color='green')\n",
        "plt.xlabel(\"Year\",fontsize=16)\n",
        "plt.ylabel(\"Sales\",fontsize=16)\n",
        "plt.title(\"Increasing Sales Yearly\",fontsize=15)\n",
        "plt.show()"
      ],
      "metadata": {
        "id": "IMEsP_CYEsYI"
      },
      "execution_count": null,
      "outputs": []
    },
    {
      "cell_type": "markdown",
      "source": [
        "In this plot we can see the yearly increasing sales. from this plot we can see  sales are increasing from 2016 constantly  ."
      ],
      "metadata": {
        "id": "GPsNmw0JZJ-G"
      }
    },
    {
      "cell_type": "code",
      "source": [
        "c = a.groupby('Ship Mode')['Sales'].mean()\n",
        "d = a.groupby('Ship Mode')['Sales'].sum()\n",
        "\n",
        "# Increase the figure size to a more reasonable value\n",
        "plt.figure(figsize=(15, 8))  # Adjust the width and height as needed\n",
        "\n",
        "# Second subplot\n",
        "plt.subplot(3, 3, 1)  # You can adjust the grid size if necessary\n",
        "plt.title(\"Ship Mode Wise Profits\")\n",
        "plt.ylabel(\"Ship Mode\")\n",
        "plt.xlabel(\"Profit\")\n",
        "plt.barh(d.index, d.values, height=0.5, color='#339966')\n",
        "\n",
        "# First subplot\n",
        "plt.subplot(3, 3, 2)  # You can adjust the grid size if necessary\n",
        "plt.title(\"Average Ship Mode Wise Profits\")\n",
        "plt.ylabel(\"Ship Mode\")\n",
        "plt.xlabel(\"Profit\")\n",
        "plt.barh(c.index, c.values, height=0.5, color='#339966')\n",
        "\n",
        "\n",
        "\n",
        "plt.tight_layout()\n",
        "plt.show()\n"
      ],
      "metadata": {
        "id": "7uqfM9mqFSfk"
      },
      "execution_count": null,
      "outputs": []
    },
    {
      "cell_type": "markdown",
      "source": [
        "Overall profits are come from Standard Class mode and average profits are come from First Class"
      ],
      "metadata": {
        "id": "0E2GAKTY-0Rc"
      }
    },
    {
      "cell_type": "code",
      "source": [
        "plt.figure(figsize=(7,5))\n",
        "plt.title(\"Profit Distribution\",fontsize=15)\n",
        "plt.hist(a['Sales'],bins=50,edgecolor='red',alpha=0.4)\n",
        "plt.xlim(-5000,7000)\n",
        "plt.show()"
      ],
      "metadata": {
        "id": "FulBNT0SJLD4"
      },
      "execution_count": null,
      "outputs": []
    },
    {
      "cell_type": "markdown",
      "source": [
        "This chart represent how my sales are frequently distributed and my profits ranging between 600 to 1000 and it indicates it is a most common profit level"
      ],
      "metadata": {
        "id": "umAlAltvBC4z"
      }
    },
    {
      "cell_type": "code",
      "source": [
        "numerical=['Sales']\n",
        "\n",
        "plt.figure(figsize=(15,8))\n",
        "for i, column in enumerate(numerical,1):\n",
        "    plt.subplot(2,4,i)\n",
        "    sns.distplot(a[column], bins=10, kde=True, hist=False, hist_kws={\"edgecolor\": \"black\", \"alpha\": 0.5})\n",
        "    plt.xlabel(column)\n"
      ],
      "metadata": {
        "id": "bkNAA0FqJMJu"
      },
      "execution_count": null,
      "outputs": []
    },
    {
      "cell_type": "code",
      "source": [
        "numerical1=['Sales']\n",
        "plt.figure(figsize=(15,8))\n",
        "for i, column in enumerate(numerical1,1):\n",
        "    plt.subplot(2,4,i)\n",
        "    plt.boxplot(a[column])\n",
        "    plt.xlabel(column)"
      ],
      "metadata": {
        "id": "Y-ZeBF6_JpNx"
      },
      "execution_count": null,
      "outputs": []
    },
    {
      "cell_type": "code",
      "source": [
        "plt.bar(a['Segment'], a['Sales'], color='pink')\n",
        "plt.show()"
      ],
      "metadata": {
        "id": "u3pGwOtUANpS"
      },
      "execution_count": null,
      "outputs": []
    },
    {
      "cell_type": "markdown",
      "source": [
        "In this bar plot represent segment of consumer,Corporate and Home Offies ."
      ],
      "metadata": {
        "id": "rWGaxZKcevSs"
      }
    },
    {
      "cell_type": "code",
      "source": [
        "import pandas as pd\n",
        "import seaborn as sns\n",
        "import matplotlib.pyplot as plt\n",
        "\n",
        "# Assuming 'g' is your grouped DataFrame\n",
        "g = a.groupby(['Segment', 'Year'])['Sales'].sum().reset_index()\n",
        "\n",
        "# Filter data for 'Consumer' segment\n",
        "h = g[g['Segment'] == 'Home Office']\n",
        "\n",
        "# Plotting using seaborn\n",
        "plt.figure(figsize=(7, 5))\n",
        "sns.lineplot(x='Year', y='Sales', data=h)  # Assuming 'Profit' is a column in your DataFrame\n",
        "plt.title(\"Consumer Segment Year Wise Profits\", fontsize=15)\n",
        "plt.xlabel(\"Year\", fontsize=13)\n",
        "plt.ylabel(\"Sales\", fontsize=13)\n",
        "plt.show()\n"
      ],
      "metadata": {
        "id": "1b18ZCdBK8Ir"
      },
      "execution_count": null,
      "outputs": []
    },
    {
      "cell_type": "markdown",
      "source": [
        "This chart represents the customer segment of Home Office profits are increasing, indicating that targeting Home Office companies for selling our products can lead to future profit growth."
      ],
      "metadata": {
        "id": "UePsGh5Jfm8m"
      }
    },
    {
      "cell_type": "code",
      "source": [
        "b=a.groupby('Region')[['Sales']].sum().reset_index()\n",
        "plt.figure(figsize=(7,5))\n",
        "plt.title(\"Region Wise Sales & Profits\",fontsize=15)\n",
        "plt.xlabel(\"Region\",fontsize=13)\n",
        "width=0.3\n",
        "c=np.arange(len(b['Region']))\n",
        "plt.xticks(c,['Central','East','South','West'])\n",
        "plt.bar(c,b['Sales'],label=\"Sales\",width=width)\n",
        "#plt.bar(c+0.3,b['Profit'],label=\"Profits\",width=width,color='#ff751a')\n",
        "plt.legend()\n",
        "plt.show()"
      ],
      "metadata": {
        "id": "IWDniRfBUVp6"
      },
      "execution_count": null,
      "outputs": []
    },
    {
      "cell_type": "markdown",
      "source": [
        "In this Graph we can see region wise sales of our product . our most sales are from west region and less sales from south"
      ],
      "metadata": {
        "id": "KiSfPcFLh5Jn"
      }
    },
    {
      "cell_type": "code",
      "source": [
        "b=a.groupby('State')['Sales'].sum().reset_index()\n",
        "c=b.sort_values(by='Sales',ascending=False)\n",
        "e=int(input(\"for how many states you want to see the profits :\"))\n",
        "d=c.head(e)\n",
        "plt.figure(figsize=(7,5))\n",
        "plt.xticks(rotation='vertical')\n",
        "plt.title(f\"Top {e} States with Respect to Profit\")\n",
        "plt.xlabel(\"States\",fontsize=13)\n",
        "plt.ylabel(\"Sales\",fontsize=13)\n",
        "plt.bar(d['State'],d['Sales'],color='#fa8072',width=0.5)\n",
        "plt.show()"
      ],
      "metadata": {
        "id": "rAG1MaPbLfST"
      },
      "execution_count": null,
      "outputs": []
    },
    {
      "cell_type": "markdown",
      "source": [
        "In this plot we represent states wise sales.  In california we have highest sales of our products."
      ],
      "metadata": {
        "id": "xmVpxEspiRe3"
      }
    },
    {
      "cell_type": "markdown",
      "source": [
        "This chart represents the top 5 city  with respect to sales.\n"
      ],
      "metadata": {
        "id": "jGSIvLdxCnH4"
      }
    },
    {
      "cell_type": "code",
      "source": [
        "b=a.groupby('City')['Sales'].sum().reset_index()\n",
        "c=b.sort_values(by='Sales',ascending=False)\n",
        "e=int(input(\"for how many cities you want to see the sales :\"))\n",
        "d=c.head(e)\n",
        "plt.figure(figsize=(7,5))\n",
        "plt.xticks(rotation='vertical')\n",
        "plt.title(f\"Top {e} city with Respect to highest sales \")\n",
        "plt.xlabel(\"City\",fontsize=13)\n",
        "plt.ylabel(\"Sales\",fontsize=13)\n",
        "plt.bar(d['City'],d['Sales'],color='red',width=0.5)\n",
        "plt.show()"
      ],
      "metadata": {
        "id": "IjNLLsC68Kqz"
      },
      "execution_count": null,
      "outputs": []
    },
    {
      "cell_type": "markdown",
      "source": [
        "In this plot we are representing city wise sales of out product after sate wise"
      ],
      "metadata": {
        "id": "NHEFd_2KkF-Y"
      }
    },
    {
      "cell_type": "code",
      "source": [
        "b=a.groupby('Category')['Sales'].sum().reset_index()\n",
        "d=b.sort_values(by=\"Sales\",ascending=False)\n",
        "c=d.head()\n",
        "plt.figure(figsize=(7,5))\n",
        "exp=(0.04,0,0)\n",
        "colors=['#ff3333','#ffad33','#3385ff','#339966','violet']\n",
        "plt.title(\"Top 3 Product Category Wise Profits\",fontsize=14)\n",
        "plt.pie(c['Sales'],labels=c['Category'],autopct=\"%1.2f%%\",colors=colors,explode=exp)\n",
        "plt.show()"
      ],
      "metadata": {
        "id": "Rj7ha5RW3N3y"
      },
      "execution_count": null,
      "outputs": []
    },
    {
      "cell_type": "markdown",
      "source": [
        "from above the plot we can see the category of products and which product category has highest sales . Technology catagory has the highest sales."
      ],
      "metadata": {
        "id": "K1-OpjFCkSC3"
      }
    },
    {
      "cell_type": "code",
      "source": [
        "b=a.groupby('Sub-Category')['Sales'].sum().reset_index()\n",
        "d=b.sort_values(by=\"Sales\",ascending=False)\n",
        "c=d.head()\n",
        "plt.figure(figsize=(7,5))\n",
        "exp=(0.04,0,0,0,0)\n",
        "colors=['#ff3333','#ffad33','#3385ff','#339966','violet']\n",
        "plt.title(\"Top 5 Product Sub-Category Wise Profits\",fontsize=15)\n",
        "plt.pie(c['Sales'],labels=c['Sub-Category'],autopct=\"%1.2f%%\",colors=colors,explode=exp)\n",
        "plt.show()"
      ],
      "metadata": {
        "id": "h8BUcDOTMsbU"
      },
      "execution_count": null,
      "outputs": []
    },
    {
      "cell_type": "markdown",
      "source": [
        "This is the sub Category plot . in this plot we can see the sales sub category product. The phones and chairs have the highest sale in product"
      ],
      "metadata": {
        "id": "XuDdEwJOk3q5"
      }
    },
    {
      "cell_type": "markdown",
      "source": [
        "**CONCLUSION** From the over all project we get state wise sales , city wise sales and which product are most selling product ."
      ],
      "metadata": {
        "id": "LP-HtddUldJJ"
      }
    }
  ]
}